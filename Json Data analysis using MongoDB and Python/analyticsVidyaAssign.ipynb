{
 "cells": [
  {
   "cell_type": "markdown",
   "metadata": {},
   "source": [
    "<h1><center> Json Data Processing with MongoDB and Python</center></h1>\n",
    "<h3><center> By: Gyan Prakash Tripathi</center></h3>\n",
    "# Step 0: Installing and importing required packages"
   ]
  },
  {
   "cell_type": "code",
   "execution_count": 1,
   "metadata": {},
   "outputs": [
    {
     "name": "stdout",
     "output_type": "stream",
     "text": [
      "Collecting pymongo\n",
      "  Downloading https://files.pythonhosted.org/packages/fb/4a/586826433281ca285f0201235fccf63cc29a30fa78bcd72b6a34e365972d/pymongo-3.8.0-cp36-cp36m-manylinux1_x86_64.whl (416kB)\n",
      "\u001b[K    100% |████████████████████████████████| 419kB 763kB/s ta 0:00:01\n",
      "\u001b[?25hInstalling collected packages: pymongo\n",
      "Successfully installed pymongo-3.8.0\n",
      "\u001b[33mYou are using pip version 9.0.1, however version 19.1.1 is available.\n",
      "You should consider upgrading via the 'pip install --upgrade pip' command.\u001b[0m\n"
     ]
    }
   ],
   "source": [
    "!pip install pymongo\n",
    "import pymongo"
   ]
  },
  {
   "cell_type": "markdown",
   "metadata": {},
   "source": [
    "# Step 1: Creating MongoClient instance and creating new database"
   ]
  },
  {
   "cell_type": "code",
   "execution_count": 2,
   "metadata": {
    "collapsed": true
   },
   "outputs": [],
   "source": [
    "\n",
    "myclient = pymongo.MongoClient(\"mongodb://localhost:27017/\")\n",
    "\n",
    "mydb = myclient[\"mydatabase\"]"
   ]
  },
  {
   "cell_type": "code",
   "execution_count": 3,
   "metadata": {},
   "outputs": [
    {
     "name": "stdout",
     "output_type": "stream",
     "text": [
      "['admin', 'config', 'local']\n"
     ]
    }
   ],
   "source": [
    "print(myclient.list_database_names())"
   ]
  },
  {
   "cell_type": "markdown",
   "metadata": {},
   "source": [
    "Here we can see only three databases, it is so because we have no value in our new database. So, it is not displayed."
   ]
  },
  {
   "cell_type": "code",
   "execution_count": 6,
   "metadata": {
    "collapsed": true
   },
   "outputs": [],
   "source": [
    "# creating a new collection (for testing)\n",
    "\n",
    "mycol = mydb[\"companies\"]"
   ]
  },
  {
   "cell_type": "code",
   "execution_count": 7,
   "metadata": {},
   "outputs": [
    {
     "name": "stdout",
     "output_type": "stream",
     "text": [
      "[]\n"
     ]
    }
   ],
   "source": [
    "print(mydb.list_collection_names())"
   ]
  },
  {
   "cell_type": "markdown",
   "metadata": {},
   "source": [
    "Again, we dont have any data in our collection so it is blank. Everything works fine for now. Let's proceed.\n",
    "# Step 2: Inserting json data into the database"
   ]
  },
  {
   "cell_type": "code",
   "execution_count": 98,
   "metadata": {},
   "outputs": [
    {
     "data": {
      "text/plain": [
       "\"\\n#Real Task\\nimport json\\nmycol=mydb['companies']\\nwith open('companies.json') as f:\\n    file_data = json.load(f)\\n    # use collection_currency.insert(file_data) if pymongo version < 3.0\\n    mycol.insert(file_data)  \\n\""
      ]
     },
     "execution_count": 98,
     "metadata": {},
     "output_type": "execute_result"
    }
   ],
   "source": [
    "'''\n",
    "#Real Task\n",
    "import json\n",
    "mycol=mydb['companies']\n",
    "with open('companies.json') as f:\n",
    "    file_data = json.load(f)\n",
    "    # use collection_currency.insert(file_data) if pymongo version < 3.0\n",
    "    mycol.insert(file_data)  \n",
    "'''"
   ]
  },
  {
   "cell_type": "markdown",
   "metadata": {},
   "source": [
    "*We could use above approach for insertion, if the data did not have any bug. But above code gives an error during insertion. It is because we have some unwanted symbols which are causing problem in the insertion. It will be easier to debug the dataframe. So, we are going to follow followig steps:*\n",
    "1. Load the json data in a dataframe\n",
    "2. In order to demonstrate how to insert into mongoDB database and retrieve from it, we will:\n",
    ">insert from the dataframe, if some error occurs, we can have a look at that cell of dataframe where the error has occured and can debug accordingly.\n",
    ">We will also show how to fetch a data stored in form of collection in the mongoDB database into pandas dataframe.\n",
    "3. Now we will do the analysis on dataframe we have obtained.(This dataframe can be any of the two dataframes we have, df or df2. Because both of these dataframes contain same values. I have used df because my system was taking more than 2-3 hours in storing to and retrieving from the database(intel i3, 4 GB ram)"
   ]
  },
  {
   "cell_type": "markdown",
   "metadata": {},
   "source": [
    "# Step 3: Getting the data ready for analysis\n",
    "## Loading data into df dataframe"
   ]
  },
  {
   "cell_type": "code",
   "execution_count": 17,
   "metadata": {},
   "outputs": [],
   "source": [
    "############################################\n",
    "import pandas as pd\n",
    "df=pd.read_json(\"companies.json\", lines=True)"
   ]
  },
  {
   "cell_type": "markdown",
   "metadata": {},
   "source": [
    "*While storing the data into MongoDB database, we saw that the first column of dataframe has special symbol dollar which is causing a problem. Similarly all the values in _id column and few of those in 'created_at' have dollar symbol. These need to be removed.*"
   ]
  },
  {
   "cell_type": "code",
   "execution_count": 35,
   "metadata": {},
   "outputs": [],
   "source": [
    "#Renamig the first column\n",
    "df.columns=['ID', 'acquisition', 'acquisitions', 'alias_list', 'blog_feed_url',\n",
    "       'blog_url', 'category_code', 'competitions', 'created_at',\n",
    "       'crunchbase_url', 'deadpooled_day', 'deadpooled_month',\n",
    "       'deadpooled_url', 'deadpooled_year', 'description', 'email_address',\n",
    "       'external_links', 'founded_day', 'founded_month', 'founded_year',\n",
    "       'funding_rounds', 'homepage_url', 'image', 'investments', 'ipo',\n",
    "       'milestones', 'name', 'number_of_employees', 'offices', 'overview',\n",
    "       'partners', 'permalink', 'phone_number', 'products', 'providerships',\n",
    "       'relationships', 'screenshots', 'tag_list', 'total_money_raised',\n",
    "       'twitter_username', 'updated_at', 'video_embeds']"
   ]
  },
  {
   "cell_type": "markdown",
   "metadata": {},
   "source": [
    "In 'created_at' column, data type is not homogenious. Moreover, we don't require this column for processing any of our queries. So **let's drop this column**"
   ]
  },
  {
   "cell_type": "code",
   "execution_count": 86,
   "metadata": {},
   "outputs": [],
   "source": [
    "df.drop(['created_at'], axis=1,inplace=True)\n"
   ]
  },
  {
   "cell_type": "code",
   "execution_count": 107,
   "metadata": {},
   "outputs": [
    {
     "data": {
      "text/plain": [
       "(18801, 41)"
      ]
     },
     "execution_count": 107,
     "metadata": {},
     "output_type": "execute_result"
    }
   ],
   "source": [
    "df.shape"
   ]
  },
  {
   "cell_type": "markdown",
   "metadata": {},
   "source": [
    "## Pre-processing the ID column"
   ]
  },
  {
   "cell_type": "code",
   "execution_count": 76,
   "metadata": {},
   "outputs": [],
   "source": [
    "fifth=[]\n",
    "for i in df['ID']:\n",
    "    for v in i.values():\n",
    "        fifth.append(v)"
   ]
  },
  {
   "cell_type": "code",
   "execution_count": 80,
   "metadata": {
    "scrolled": true
   },
   "outputs": [
    {
     "name": "stderr",
     "output_type": "stream",
     "text": [
      "/home/gyan/anaconda3/lib/python3.6/site-packages/pandas/core/indexing.py:179: SettingWithCopyWarning: \n",
      "A value is trying to be set on a copy of a slice from a DataFrame\n",
      "\n",
      "See the caveats in the documentation: http://pandas.pydata.org/pandas-docs/stable/indexing.html#indexing-view-versus-copy\n",
      "  self._setitem_with_indexer(indexer, value)\n"
     ]
    }
   ],
   "source": [
    "for i in range(18801):\n",
    "    df['ID'].iloc[i]=fifth[i]\n"
   ]
  },
  {
   "cell_type": "code",
   "execution_count": 81,
   "metadata": {},
   "outputs": [
    {
     "data": {
      "text/plain": [
       "'52cdef7c4bab8bd675297f7e'"
      ]
     },
     "execution_count": 81,
     "metadata": {},
     "output_type": "execute_result"
    }
   ],
   "source": [
    "#Now, let's check whether we have data in proper format or not in ID column(atfer updation)\n",
    "df['ID'].iloc[500]"
   ]
  },
  {
   "cell_type": "markdown",
   "metadata": {},
   "source": [
    "Now, we have string data in ID column. Moreover created_at has been removed. Let's insert the dataframe into the database after converting it to json"
   ]
  },
  {
   "cell_type": "code",
   "execution_count": 103,
   "metadata": {
    "scrolled": true
   },
   "outputs": [
    {
     "name": "stderr",
     "output_type": "stream",
     "text": [
      "/home/gyan/anaconda3/lib/python3.6/site-packages/ipykernel_launcher.py:2: DeprecationWarning: insert is deprecated. Use insert_one or insert_many instead.\n",
      "  \n"
     ]
    },
    {
     "data": {
      "text/plain": [
       "[ObjectId('5d00cb265b8e3d4b083da2bd'),\n",
       " ObjectId('5d00cb265b8e3d4b083da2be'),\n",
       " ObjectId('5d00cb265b8e3d4b083da2bf'),\n",
       " ObjectId('5d00cb265b8e3d4b083da2c0'),\n",
       " ObjectId('5d00cb265b8e3d4b083da2c1')]"
      ]
     },
     "execution_count": 103,
     "metadata": {},
     "output_type": "execute_result"
    }
   ],
   "source": [
    "records = json.loads(df.iloc.T.to_json()).values()\n",
    "mydb.mycol.insert(records)"
   ]
  },
  {
   "cell_type": "markdown",
   "metadata": {},
   "source": [
    "previously we checked the list of databases and we couldn't find our database, because it had no data. let's check it once again. Now it should show the database mydatabase."
   ]
  },
  {
   "cell_type": "code",
   "execution_count": 106,
   "metadata": {},
   "outputs": [
    {
     "name": "stdout",
     "output_type": "stream",
     "text": [
      "The database exists.\n"
     ]
    }
   ],
   "source": [
    "dblist = myclient.list_database_names()\n",
    "if \"mydatabase\" in dblist:\n",
    "    print(\"The database exists.\")"
   ]
  },
  {
   "cell_type": "markdown",
   "metadata": {},
   "source": [
    "## Defining function to read json into a dataframe"
   ]
  },
  {
   "cell_type": "code",
   "execution_count": 94,
   "metadata": {
    "collapsed": true
   },
   "outputs": [],
   "source": [
    "def read_mongo(db, collection, query={}, host='localhost', port=27017, username=None, password=None, no_id=True):\n",
    "    \"\"\" Read from Mongo and Store into DataFrame \"\"\"\n",
    "\n",
    "    # Connect to MongoDB\n",
    "    db = mydb\n",
    "\n",
    "    # Make a query to the specific DB and Collection\n",
    "    cursor = db[collection].find(query)\n",
    "\n",
    "    # Expand the cursor and construct the DataFrame\n",
    "    df =  pd.DataFrame(list(cursor))\n",
    "\n",
    "    # Delete the _id\n",
    "    if no_id:\n",
    "        del df['_id']\n",
    "\n",
    "    return df"
   ]
  },
  {
   "cell_type": "markdown",
   "metadata": {},
   "source": [
    "## Reading data from dataframe"
   ]
  },
  {
   "cell_type": "code",
   "execution_count": 95,
   "metadata": {},
   "outputs": [],
   "source": [
    "\n",
    "df2=read_mongo(mydb, 'mycol')"
   ]
  },
  {
   "cell_type": "code",
   "execution_count": 96,
   "metadata": {},
   "outputs": [
    {
     "data": {
      "text/html": [
       "<div>\n",
       "<style>\n",
       "    .dataframe thead tr:only-child th {\n",
       "        text-align: right;\n",
       "    }\n",
       "\n",
       "    .dataframe thead th {\n",
       "        text-align: left;\n",
       "    }\n",
       "\n",
       "    .dataframe tbody tr th {\n",
       "        vertical-align: top;\n",
       "    }\n",
       "</style>\n",
       "<table border=\"1\" class=\"dataframe\">\n",
       "  <thead>\n",
       "    <tr style=\"text-align: right;\">\n",
       "      <th></th>\n",
       "      <th>ID</th>\n",
       "      <th>acquisition</th>\n",
       "      <th>acquisitions</th>\n",
       "      <th>alias_list</th>\n",
       "      <th>blog_feed_url</th>\n",
       "      <th>blog_url</th>\n",
       "      <th>category_code</th>\n",
       "      <th>competitions</th>\n",
       "      <th>crunchbase_url</th>\n",
       "      <th>deadpooled_day</th>\n",
       "      <th>...</th>\n",
       "      <th>phone_number</th>\n",
       "      <th>products</th>\n",
       "      <th>providerships</th>\n",
       "      <th>relationships</th>\n",
       "      <th>screenshots</th>\n",
       "      <th>tag_list</th>\n",
       "      <th>total_money_raised</th>\n",
       "      <th>twitter_username</th>\n",
       "      <th>updated_at</th>\n",
       "      <th>video_embeds</th>\n",
       "    </tr>\n",
       "  </thead>\n",
       "  <tbody>\n",
       "    <tr>\n",
       "      <th>0</th>\n",
       "      <td>52cdef7c4bab8bd675297d8a</td>\n",
       "      <td>{'price_amount': 30000000, 'price_currency_cod...</td>\n",
       "      <td>[]</td>\n",
       "      <td></td>\n",
       "      <td>http://digitalquarters.net/feed/</td>\n",
       "      <td>http://digitalquarters.net/</td>\n",
       "      <td>web</td>\n",
       "      <td>[{'competitor': {'name': 'Wikia', 'permalink':...</td>\n",
       "      <td>http://www.crunchbase.com/company/wetpaint</td>\n",
       "      <td>NaN</td>\n",
       "      <td>...</td>\n",
       "      <td>206.859.6300</td>\n",
       "      <td>[{'name': 'Wikison Wetpaint', 'permalink': 'we...</td>\n",
       "      <td>[]</td>\n",
       "      <td>[{'is_past': False, 'title': 'Co-Founder and V...</td>\n",
       "      <td>[{'available_sizes': [[[150, 86], 'assets/imag...</td>\n",
       "      <td>wiki, seattle, elowitz, media-industry, media-...</td>\n",
       "      <td>$39.8M</td>\n",
       "      <td>BachelrWetpaint</td>\n",
       "      <td>1386486944000</td>\n",
       "      <td>[]</td>\n",
       "    </tr>\n",
       "    <tr>\n",
       "      <th>1</th>\n",
       "      <td>52cdef7c4bab8bd675297d8b</td>\n",
       "      <td>None</td>\n",
       "      <td>[]</td>\n",
       "      <td>Zoho ManageEngine</td>\n",
       "      <td></td>\n",
       "      <td></td>\n",
       "      <td>enterprise</td>\n",
       "      <td>[]</td>\n",
       "      <td>http://www.crunchbase.com/company/adventnet</td>\n",
       "      <td>NaN</td>\n",
       "      <td>...</td>\n",
       "      <td>925-924-9500</td>\n",
       "      <td>[]</td>\n",
       "      <td>[{'title': 'DHFH', 'is_past': True, 'provider'...</td>\n",
       "      <td>[{'is_past': True, 'title': 'CEO and Co-Founde...</td>\n",
       "      <td>[{'available_sizes': [[[150, 94], 'assets/imag...</td>\n",
       "      <td></td>\n",
       "      <td>$0</td>\n",
       "      <td>manageengine</td>\n",
       "      <td>1351707969000</td>\n",
       "      <td>[]</td>\n",
       "    </tr>\n",
       "  </tbody>\n",
       "</table>\n",
       "<p>2 rows × 41 columns</p>\n",
       "</div>"
      ],
      "text/plain": [
       "                         ID  \\\n",
       "0  52cdef7c4bab8bd675297d8a   \n",
       "1  52cdef7c4bab8bd675297d8b   \n",
       "\n",
       "                                         acquisition acquisitions  \\\n",
       "0  {'price_amount': 30000000, 'price_currency_cod...           []   \n",
       "1                                               None           []   \n",
       "\n",
       "           alias_list                     blog_feed_url  \\\n",
       "0                      http://digitalquarters.net/feed/   \n",
       "1  Zoho ManageEngine                                      \n",
       "\n",
       "                      blog_url category_code  \\\n",
       "0  http://digitalquarters.net/           web   \n",
       "1                                 enterprise   \n",
       "\n",
       "                                        competitions  \\\n",
       "0  [{'competitor': {'name': 'Wikia', 'permalink':...   \n",
       "1                                                 []   \n",
       "\n",
       "                                crunchbase_url  deadpooled_day     ...       \\\n",
       "0   http://www.crunchbase.com/company/wetpaint             NaN     ...        \n",
       "1  http://www.crunchbase.com/company/adventnet             NaN     ...        \n",
       "\n",
       "   phone_number                                           products  \\\n",
       "0  206.859.6300  [{'name': 'Wikison Wetpaint', 'permalink': 'we...   \n",
       "1  925-924-9500                                                 []   \n",
       "\n",
       "                                       providerships  \\\n",
       "0                                                 []   \n",
       "1  [{'title': 'DHFH', 'is_past': True, 'provider'...   \n",
       "\n",
       "                                       relationships  \\\n",
       "0  [{'is_past': False, 'title': 'Co-Founder and V...   \n",
       "1  [{'is_past': True, 'title': 'CEO and Co-Founde...   \n",
       "\n",
       "                                         screenshots  \\\n",
       "0  [{'available_sizes': [[[150, 86], 'assets/imag...   \n",
       "1  [{'available_sizes': [[[150, 94], 'assets/imag...   \n",
       "\n",
       "                                            tag_list  total_money_raised  \\\n",
       "0  wiki, seattle, elowitz, media-industry, media-...              $39.8M   \n",
       "1                                                                     $0   \n",
       "\n",
       "   twitter_username     updated_at video_embeds  \n",
       "0   BachelrWetpaint  1386486944000           []  \n",
       "1      manageengine  1351707969000           []  \n",
       "\n",
       "[2 rows x 41 columns]"
      ]
     },
     "execution_count": 96,
     "metadata": {},
     "output_type": "execute_result"
    }
   ],
   "source": [
    "df2.head(2)"
   ]
  },
  {
   "cell_type": "markdown",
   "metadata": {},
   "source": [
    "# Step 4: Analysis of Data"
   ]
  },
  {
   "cell_type": "markdown",
   "metadata": {},
   "source": [
    "## 1. calculating the number of companies"
   ]
  },
  {
   "cell_type": "code",
   "execution_count": 18,
   "metadata": {},
   "outputs": [
    {
     "data": {
      "text/plain": [
       "17893"
      ]
     },
     "execution_count": 18,
     "metadata": {},
     "output_type": "execute_result"
    }
   ],
   "source": [
    "len(list(df['name'].unique()))"
   ]
  },
  {
   "cell_type": "markdown",
   "metadata": {},
   "source": [
    "## 2. Calculating number of files updated between 2010 and 2013"
   ]
  },
  {
   "cell_type": "code",
   "execution_count": 19,
   "metadata": {
    "collapsed": true
   },
   "outputs": [],
   "source": [
    "from datetime import datetime"
   ]
  },
  {
   "cell_type": "code",
   "execution_count": 21,
   "metadata": {
    "collapsed": true
   },
   "outputs": [],
   "source": [
    "c=[]\n",
    "for i in df['updated_at']:\n",
    "    c.append(i.strftime(\"%Y \"))"
   ]
  },
  {
   "cell_type": "code",
   "execution_count": 22,
   "metadata": {},
   "outputs": [
    {
     "name": "stdout",
     "output_type": "stream",
     "text": [
      "2869\n"
     ]
    }
   ],
   "source": [
    "count=0\n",
    "for i in c:\n",
    "    if int(i)< 2013 and int(i)>2010:\n",
    "        count+=1\n",
    "print(count)"
   ]
  },
  {
   "cell_type": "markdown",
   "metadata": {},
   "source": [
    "## 3. Finding out the most common relationship and it's frequency"
   ]
  },
  {
   "cell_type": "code",
   "execution_count": 23,
   "metadata": {
    "collapsed": true
   },
   "outputs": [],
   "source": [
    "rel=[]\n",
    "for i in df['relationships']:\n",
    "    for j in i:\n",
    "        rel.append(j['title'])"
   ]
  },
  {
   "cell_type": "code",
   "execution_count": 24,
   "metadata": {
    "collapsed": true
   },
   "outputs": [],
   "source": [
    "g=[]\n",
    "r=set(rel)\n",
    "for i in r:\n",
    "    g.append(rel.count(i))"
   ]
  },
  {
   "cell_type": "code",
   "execution_count": 28,
   "metadata": {},
   "outputs": [
    {
     "data": {
      "text/plain": [
       "13171"
      ]
     },
     "execution_count": 28,
     "metadata": {},
     "output_type": "execute_result"
    }
   ],
   "source": [
    "g.index(max(g))"
   ]
  },
  {
   "cell_type": "code",
   "execution_count": 30,
   "metadata": {},
   "outputs": [
    {
     "data": {
      "text/plain": [
       "3428"
      ]
     },
     "execution_count": 30,
     "metadata": {},
     "output_type": "execute_result"
    }
   ],
   "source": [
    "# frequency\n",
    "g[13171]"
   ]
  },
  {
   "cell_type": "code",
   "execution_count": 31,
   "metadata": {},
   "outputs": [
    {
     "data": {
      "text/plain": [
       "'CEO'"
      ]
     },
     "execution_count": 31,
     "metadata": {},
     "output_type": "execute_result"
    }
   ],
   "source": [
    "# relationship\n",
    "list(r)[13171]"
   ]
  },
  {
   "cell_type": "markdown",
   "metadata": {},
   "source": [
    "### Let's check phone_number column, to find out if we can use it to find country_code"
   ]
  },
  {
   "cell_type": "code",
   "execution_count": 38,
   "metadata": {},
   "outputs": [
    {
     "data": {
      "text/plain": [
       "0              206.859.6300\n",
       "1              925-924-9500\n",
       "2            1-888-204-3539\n",
       "3            (415) 436-9638\n",
       "4                          \n",
       "5              660-675-5052\n",
       "6              888.584.3150\n",
       "7                          \n",
       "8                      None\n",
       "9                          \n",
       "10                         \n",
       "11                         \n",
       "12                         \n",
       "13                         \n",
       "14                         \n",
       "15           (650) 353 3206\n",
       "16             310-445-7000\n",
       "17                         \n",
       "18                         \n",
       "19                         \n",
       "20                         \n",
       "21           (212) 258-6000\n",
       "22                         \n",
       "23             650-254-5400\n",
       "24           (408) 526-4000\n",
       "25           (408) 349-3300\n",
       "26             415-848-7000\n",
       "27             415-896-3000\n",
       "28         +44 207 965 2000\n",
       "29             703-677-3999\n",
       "                ...        \n",
       "18771        1-949-498-5630\n",
       "18772          650-474-0500\n",
       "18773         972-9-8654904\n",
       "18774         1408-980-4600\n",
       "18775          510-580-0700\n",
       "18776                      \n",
       "18777        1-510-792-4000\n",
       "18778       +32 2 548 70 27\n",
       "18779                      \n",
       "18780           02072587854\n",
       "18781                      \n",
       "18782                  None\n",
       "18783                  None\n",
       "18784          912226833045\n",
       "18785         1800-991-7621\n",
       "18786                      \n",
       "18787         0031621225674\n",
       "18788          713-722-7083\n",
       "18789          201-680-7000\n",
       "18790          925-556-2600\n",
       "18791          714-940-6300\n",
       "18792          631-563-8880\n",
       "18793          561-835-9757\n",
       "18794                  None\n",
       "18795      +41 44 501 38 38\n",
       "18796            9214908579\n",
       "18797       +1-973-784-1100\n",
       "18798    +44 (20) 8144 2683\n",
       "18799                      \n",
       "18800          205-968-3050\n",
       "Name: phone_number, Length: 18801, dtype: object"
      ]
     },
     "execution_count": 38,
     "metadata": {},
     "output_type": "execute_result"
    }
   ],
   "source": [
    "\n",
    "df['phone_number']"
   ]
  },
  {
   "cell_type": "markdown",
   "metadata": {},
   "source": [
    "**It seems, phone number can't be used for the purpose of finding country_code.**\n",
    "## 4. Finding most common category_code and frequency"
   ]
  },
  {
   "cell_type": "code",
   "execution_count": 40,
   "metadata": {},
   "outputs": [],
   "source": [
    "rel2=[]\n",
    "for i in df['category_code']:\n",
    "        rel2.append(i)"
   ]
  },
  {
   "cell_type": "code",
   "execution_count": 41,
   "metadata": {
    "collapsed": true
   },
   "outputs": [],
   "source": [
    "g2=[]\n",
    "r2=set(rel2)\n",
    "for i in r2:\n",
    "    g2.append(rel2.count(i))"
   ]
  },
  {
   "cell_type": "code",
   "execution_count": 43,
   "metadata": {},
   "outputs": [
    {
     "data": {
      "text/plain": [
       "12"
      ]
     },
     "execution_count": 43,
     "metadata": {},
     "output_type": "execute_result"
    }
   ],
   "source": [
    "g2.index(max(g2))"
   ]
  },
  {
   "cell_type": "code",
   "execution_count": 44,
   "metadata": {},
   "outputs": [
    {
     "data": {
      "text/plain": [
       "3787"
      ]
     },
     "execution_count": 44,
     "metadata": {},
     "output_type": "execute_result"
    }
   ],
   "source": [
    "#frequency\n",
    "g2[12]"
   ]
  },
  {
   "cell_type": "code",
   "execution_count": 45,
   "metadata": {},
   "outputs": [
    {
     "data": {
      "text/plain": [
       "'web'"
      ]
     },
     "execution_count": 45,
     "metadata": {},
     "output_type": "execute_result"
    }
   ],
   "source": [
    "#name of category\n",
    "list(r2)[12]"
   ]
  },
  {
   "cell_type": "markdown",
   "metadata": {},
   "source": [
    "## 5. Number of companies who have raised IPO"
   ]
  },
  {
   "cell_type": "code",
   "execution_count": 64,
   "metadata": {},
   "outputs": [],
   "source": [
    "third=[]\n",
    "for i in df['ipo']:\n",
    "    if i:\n",
    "        third.append(i)"
   ]
  },
  {
   "cell_type": "code",
   "execution_count": 65,
   "metadata": {},
   "outputs": [
    {
     "data": {
      "text/plain": [
       "393"
      ]
     },
     "execution_count": 65,
     "metadata": {},
     "output_type": "execute_result"
    }
   ],
   "source": [
    "len(third)"
   ]
  },
  {
   "cell_type": "markdown",
   "metadata": {},
   "source": [
    "## 6. Name of Last company in the record"
   ]
  },
  {
   "cell_type": "code",
   "execution_count": 73,
   "metadata": {},
   "outputs": [
    {
     "data": {
      "text/plain": [
       "18800    EnteGreat\n",
       "Name: name, dtype: object"
      ]
     },
     "execution_count": 73,
     "metadata": {},
     "output_type": "execute_result"
    }
   ],
   "source": [
    "df.tail(1)['name']"
   ]
  },
  {
   "cell_type": "markdown",
   "metadata": {},
   "source": [
    "## 7. Average and median of funding_rounds"
   ]
  },
  {
   "cell_type": "code",
   "execution_count": 74,
   "metadata": {},
   "outputs": [
    {
     "data": {
      "text/plain": [
       "0        [{'id': 888, 'round_code': 'a', 'source_url': ...\n",
       "1                                                       []\n",
       "2                                                       []\n",
       "3        [{'id': 1, 'round_code': 'b', 'source_url': 'h...\n",
       "4        [{'id': 2, 'round_code': 'angel', 'source_url'...\n",
       "5        [{'id': 225, 'round_code': 'angel', 'source_ur...\n",
       "6                                                       []\n",
       "7        [{'id': 6, 'round_code': 'a', 'source_url': ''...\n",
       "8                                                       []\n",
       "9                                                       []\n",
       "10       [{'id': 261, 'round_code': 'a', 'source_url': ...\n",
       "11       [{'id': 8, 'round_code': 'seed', 'source_url':...\n",
       "12       [{'id': 9, 'round_code': 'a', 'source_url': 'h...\n",
       "13       [{'id': 10, 'round_code': 'seed', 'source_url'...\n",
       "14       [{'id': 12, 'round_code': 'b', 'source_url': '...\n",
       "15       [{'id': 16, 'round_code': 'b', 'source_url': '...\n",
       "16                                                      []\n",
       "17       [{'id': 24534, 'round_code': 'unattributed', '...\n",
       "18       [{'id': 18, 'round_code': 'a', 'source_url': '...\n",
       "19       [{'id': 19, 'round_code': 'a', 'source_url': '...\n",
       "20                                                      []\n",
       "21                                                      []\n",
       "22       [{'id': 17, 'round_code': 'a', 'source_url': '...\n",
       "23       [{'id': 20, 'round_code': 'a', 'source_url': '...\n",
       "24       [{'id': 2232, 'round_code': 'a', 'source_url':...\n",
       "25       [{'id': 24531, 'round_code': 'a', 'source_url'...\n",
       "26       [{'id': 22, 'round_code': 'a', 'source_url': '...\n",
       "27       [{'id': 23, 'round_code': 'c', 'source_url': '...\n",
       "28       [{'id': 1849, 'round_code': 'c', 'source_url':...\n",
       "29       [{'id': 27, 'round_code': 'a', 'source_url': '...\n",
       "                               ...                        \n",
       "18771    [{'id': 7368, 'round_code': 'e', 'source_url':...\n",
       "18772    [{'id': 7369, 'round_code': 'a', 'source_url':...\n",
       "18773    [{'id': 7370, 'round_code': 'unattributed', 's...\n",
       "18774    [{'id': 7371, 'round_code': 'unattributed', 's...\n",
       "18775    [{'id': 8564, 'round_code': 'b', 'source_url':...\n",
       "18776                                                   []\n",
       "18777    [{'id': 7373, 'round_code': 'e', 'source_url':...\n",
       "18778    [{'id': 24183, 'round_code': 'seed', 'source_u...\n",
       "18779                                                   []\n",
       "18780    [{'id': 7375, 'round_code': 'a', 'source_url':...\n",
       "18781                                                   []\n",
       "18782                                                   []\n",
       "18783                                                   []\n",
       "18784                                                   []\n",
       "18785    [{'id': 48079, 'round_code': 'seed', 'source_u...\n",
       "18786    [{'id': 13419, 'round_code': 'seed', 'source_u...\n",
       "18787                                                   []\n",
       "18788                                                   []\n",
       "18789                                                   []\n",
       "18790                                                   []\n",
       "18791                                                   []\n",
       "18792                                                   []\n",
       "18793                                                   []\n",
       "18794                                                   []\n",
       "18795                                                   []\n",
       "18796                                                   []\n",
       "18797                                                   []\n",
       "18798                                                   []\n",
       "18799                                                   []\n",
       "18800    [{'id': 36090, 'round_code': 'unattributed', '...\n",
       "Name: funding_rounds, Length: 18801, dtype: object"
      ]
     },
     "execution_count": 74,
     "metadata": {},
     "output_type": "execute_result"
    }
   ],
   "source": [
    "df['funding_rounds']"
   ]
  },
  {
   "cell_type": "code",
   "execution_count": 99,
   "metadata": {
    "collapsed": true
   },
   "outputs": [],
   "source": [
    "fourth=[]\n",
    "for i in df['funding_rounds']:\n",
    "    for j in i:\n",
    "        fourth.append(j['id'])"
   ]
  },
  {
   "cell_type": "code",
   "execution_count": 100,
   "metadata": {},
   "outputs": [
    {
     "data": {
      "text/plain": [
       "8079"
      ]
     },
     "execution_count": 100,
     "metadata": {},
     "output_type": "execute_result"
    }
   ],
   "source": [
    "import statistics\n",
    "#Median\n",
    "statistics.median(fourth)"
   ]
  },
  {
   "cell_type": "code",
   "execution_count": 101,
   "metadata": {},
   "outputs": [
    {
     "data": {
      "text/plain": [
       "15637.328522849797"
      ]
     },
     "execution_count": 101,
     "metadata": {},
     "output_type": "execute_result"
    }
   ],
   "source": [
    "#Average\n",
    "statistics.mean(fourth)"
   ]
  },
  {
   "cell_type": "markdown",
   "metadata": {},
   "source": [
    "<h2><center>Thanks for accompanying.</center><h2>"
   ]
  }
 ],
 "metadata": {
  "kernelspec": {
   "display_name": "Python 3",
   "language": "python",
   "name": "python3"
  },
  "language_info": {
   "codemirror_mode": {
    "name": "ipython",
    "version": 3
   },
   "file_extension": ".py",
   "mimetype": "text/x-python",
   "name": "python",
   "nbconvert_exporter": "python",
   "pygments_lexer": "ipython3",
   "version": "3.6.3"
  }
 },
 "nbformat": 4,
 "nbformat_minor": 2
}
