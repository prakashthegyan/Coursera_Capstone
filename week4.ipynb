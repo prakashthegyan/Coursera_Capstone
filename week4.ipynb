{
 "cells": [
  {
   "cell_type": "markdown",
   "metadata": {},
   "source": [
    "# **Relationship amongst Indian GDP, Polytics and Starbucks Outlets(2011-2017)**"
   ]
  },
  {
   "cell_type": "markdown",
   "metadata": {},
   "source": [
    "## **_Problem Description:_**\n",
    "India is a diverse and rapidly growing nation. It is ruled by several parties in state governments. During elections it becomes important to decide which party to vote for. Parliamentary elections are being conducted during April 2019- May 2019. This report is an effort to analyze the Nominal GDP Growth of different states, and group them into different categories. Later on we will try to find out relationship between GDP growth and government.\n",
    "\n",
    "Moreover, Starbucks opened it's first outlet in 2013 in India. We will see how the GDP growth of place affects growth in business of company in India."
   ]
  },
  {
   "cell_type": "markdown",
   "metadata": {},
   "source": [
    "## **_Question to be Answered:_**\n",
    "* _During the reign of which party, GDP growth has been more?_\n",
    "* _Can various states be categorized on basis of GDP Growth? Which states have similar growth patterns?_\n",
    "* _How does the GDP growth of place affect growth of Starbucks Outlets in the area?_"
   ]
  },
  {
   "cell_type": "markdown",
   "metadata": {},
   "source": [
    "## **_Beneficiaries Of This Analysis:_**\n",
    "* **Common people of Country** can get an idea and they will be able to decide whom to vote for based upon past growth.\n",
    "* **Starbucks and other such stakeholders** can get an idea of the venue where they should their next Outlet based upon past trend of Starbucks outlets."
   ]
  },
  {
   "cell_type": "markdown",
   "metadata": {},
   "source": [
    "## **_Required Data:_**\n",
    "* Table of **Yearwise Nominal GDP Growth of India**, taken form Wikipedia.\n",
    "* **List of Starbucks outlets** functional in the country, taken from Wikipedia.\n",
    "* **Location data fetched from Folium** to plot the position of outlets. \n",
    "* **Self Curated Csv file** of ruling parties in different states."
   ]
  }
 ],
 "metadata": {
  "kernelspec": {
   "display_name": "Python 3",
   "language": "python",
   "name": "python3"
  },
  "language_info": {
   "codemirror_mode": {
    "name": "ipython",
    "version": 3
   },
   "file_extension": ".py",
   "mimetype": "text/x-python",
   "name": "python",
   "nbconvert_exporter": "python",
   "pygments_lexer": "ipython3",
   "version": "3.6.8"
  }
 },
 "nbformat": 4,
 "nbformat_minor": 2
}
